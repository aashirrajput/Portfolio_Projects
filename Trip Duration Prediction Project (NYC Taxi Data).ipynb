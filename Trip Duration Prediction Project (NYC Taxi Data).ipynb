{
 "cells": [
  {
   "cell_type": "code",
   "execution_count": null,
   "metadata": {
    "colab": {
     "base_uri": "https://localhost:8080/"
    },
    "id": "VnOlpiDp1Zxt",
    "outputId": "2404d979-d1e0-436b-8d3b-7a17d3b7cb97"
   },
   "outputs": [
    {
     "name": "stdout",
     "output_type": "stream",
     "text": [
      "Files in the /content/ directory:\n",
      "['.config', 'nyc-taxi-trip-duration.zip', '.ipynb_checkpoints', 'test.csv', 'sample_submission.csv', 'train.csv', 'sample_data']\n"
     ]
    }
   ],
   "source": [
    "import os\n",
    "# List the files in the /content/ directory\n",
    "content_files = os.listdir('/content/')\n",
    "print(\"Files in the /content/ directory:\")\n",
    "print(content_files)"
   ]
  },
  {
   "cell_type": "code",
   "execution_count": null,
   "metadata": {
    "colab": {
     "base_uri": "https://localhost:8080/"
    },
    "id": "6mNFUGoTzPpY",
    "outputId": "40566cf7-e2b5-4be5-f257-efad4d442f8c"
   },
   "outputs": [
    {
     "name": "stdout",
     "output_type": "stream",
     "text": [
      "Train DataFrame:\n",
      "          id  vendor_id      pickup_datetime     dropoff_datetime  \\\n",
      "0  id2875421          2  2016-03-14 17:24:55  2016-03-14 17:32:30   \n",
      "1  id2377394          1  2016-06-12 00:43:35  2016-06-12 00:54:38   \n",
      "2  id3858529          2  2016-01-19 11:35:24  2016-01-19 12:10:48   \n",
      "3  id3504673          2  2016-04-06 19:32:31  2016-04-06 19:39:40   \n",
      "4  id2181028          2  2016-03-26 13:30:55  2016-03-26 13:38:10   \n",
      "\n",
      "   passenger_count  pickup_longitude  pickup_latitude  dropoff_longitude  \\\n",
      "0              1.0        -73.982155        40.767937         -73.964630   \n",
      "1              1.0        -73.980415        40.738564         -73.999481   \n",
      "2              1.0        -73.979027        40.763939         -74.005333   \n",
      "3              1.0        -74.010040        40.719971         -74.012268   \n",
      "4              1.0        -73.973053        40.793209         -73.972923   \n",
      "\n",
      "   dropoff_latitude store_and_fwd_flag  trip_duration  \n",
      "0         40.765602                  N          455.0  \n",
      "1         40.731152                  N          663.0  \n",
      "2         40.710087                  N         2124.0  \n",
      "3         40.706718                  N          429.0  \n",
      "4         40.782520                  N          435.0  \n",
      "\n",
      "Test DataFrame:\n",
      "          id  vendor_id      pickup_datetime  passenger_count  \\\n",
      "0  id3004672          1  2016-06-30 23:59:58                1   \n",
      "1  id3505355          1  2016-06-30 23:59:53                1   \n",
      "2  id1217141          1  2016-06-30 23:59:47                1   \n",
      "3  id2150126          2  2016-06-30 23:59:41                1   \n",
      "4  id1598245          1  2016-06-30 23:59:33                1   \n",
      "\n",
      "   pickup_longitude  pickup_latitude  dropoff_longitude  dropoff_latitude  \\\n",
      "0        -73.988129        40.732029         -73.990173         40.756680   \n",
      "1        -73.964203        40.679993         -73.959808         40.655403   \n",
      "2        -73.997437        40.737583         -73.986160         40.729523   \n",
      "3        -73.956070        40.771900         -73.986427         40.730469   \n",
      "4        -73.970215        40.761475         -73.961510         40.755890   \n",
      "\n",
      "  store_and_fwd_flag  \n",
      "0                  N  \n",
      "1                  N  \n",
      "2                  N  \n",
      "3                  N  \n",
      "4                  N  \n",
      "\n",
      "Sample Submission DataFrame:\n",
      "          id  trip_duration\n",
      "0  id3004672            959\n",
      "1  id3505355            959\n",
      "2  id1217141            959\n",
      "3  id2150126            959\n",
      "4  id1598245            959\n",
      "\n",
      "Missing values in Train DataFrame:\n",
      "id                    0\n",
      "vendor_id             0\n",
      "pickup_datetime       0\n",
      "dropoff_datetime      1\n",
      "passenger_count       1\n",
      "pickup_longitude      1\n",
      "pickup_latitude       1\n",
      "dropoff_longitude     1\n",
      "dropoff_latitude      1\n",
      "store_and_fwd_flag    1\n",
      "trip_duration         1\n",
      "dtype: int64\n",
      "\n",
      "Missing values in Test DataFrame:\n",
      "id                    0\n",
      "vendor_id             0\n",
      "pickup_datetime       0\n",
      "passenger_count       0\n",
      "pickup_longitude      0\n",
      "pickup_latitude       0\n",
      "dropoff_longitude     0\n",
      "dropoff_latitude      0\n",
      "store_and_fwd_flag    0\n",
      "dtype: int64\n",
      "\n",
      "Missing values in Sample Submission DataFrame:\n",
      "id               0\n",
      "trip_duration    0\n",
      "dtype: int64\n",
      "\n",
      "Summary statistics of Train DataFrame:\n",
      "           vendor_id  passenger_count  pickup_longitude  pickup_latitude  \\\n",
      "count  609990.000000    609989.000000     609989.000000    609989.000000   \n",
      "mean        1.534378         1.663194        -73.973538        40.750972   \n",
      "std         0.498817         1.312430          0.039979         0.033277   \n",
      "min         1.000000         0.000000        -78.547401        34.712234   \n",
      "25%         1.000000         1.000000        -73.991890        40.737335   \n",
      "50%         2.000000         1.000000        -73.981766        40.754120   \n",
      "75%         2.000000         2.000000        -73.967346        40.768341   \n",
      "max         2.000000         9.000000        -70.511902        51.881084   \n",
      "\n",
      "       dropoff_longitude  dropoff_latitude  trip_duration  \n",
      "count      609989.000000     609989.000000   6.099890e+05  \n",
      "mean          -73.973398         40.751824   9.510465e+02  \n",
      "std             0.039407          0.035158   3.979546e+03  \n",
      "min           -79.817978         32.181141   1.000000e+00  \n",
      "25%           -73.991333         40.735909   3.970000e+02  \n",
      "50%           -73.979736         40.754463   6.620000e+02  \n",
      "75%           -73.963005         40.769779   1.075000e+03  \n",
      "max           -70.511902         43.486885   1.939736e+06  \n",
      "\n",
      "Summary statistics of Test DataFrame:\n",
      "           vendor_id  passenger_count  pickup_longitude  pickup_latitude  \\\n",
      "count  625134.000000    625134.000000     625134.000000    625134.000000   \n",
      "mean        1.534884         1.661765        -73.973614        40.750927   \n",
      "std         0.498782         1.311293          0.073389         0.029848   \n",
      "min         1.000000         0.000000       -121.933128        37.389587   \n",
      "25%         1.000000         1.000000        -73.991852        40.737392   \n",
      "50%         2.000000         1.000000        -73.981743        40.754093   \n",
      "75%         2.000000         2.000000        -73.967400        40.768394   \n",
      "max         2.000000         9.000000        -69.248917        42.814938   \n",
      "\n",
      "       dropoff_longitude  dropoff_latitude  \n",
      "count      625134.000000     625134.000000  \n",
      "mean          -73.973458         40.751816  \n",
      "std             0.072565          0.035824  \n",
      "min          -121.933327         36.601322  \n",
      "25%           -73.991318         40.736000  \n",
      "50%           -73.979774         40.754543  \n",
      "75%           -73.963013         40.769852  \n",
      "max           -67.496796         48.857597  \n"
     ]
    }
   ],
   "source": [
    "import pandas as pd\n",
    "import matplotlib.pyplot as plt\n",
    "\n",
    "# Load the datasets\n",
    "train_df = pd.read_csv('/content/train.csv')\n",
    "test_df = pd.read_csv('/content/test.csv')\n",
    "sample_submission_df = pd.read_csv('/content/sample_submission.csv')\n",
    "\n",
    "# Display the first few rows of each DataFrame\n",
    "print(\"Train DataFrame:\")\n",
    "print(train_df.head())\n",
    "\n",
    "print(\"\\nTest DataFrame:\")\n",
    "print(test_df.head())\n",
    "\n",
    "print(\"\\nSample Submission DataFrame:\")\n",
    "print(sample_submission_df.head())\n",
    "\n",
    "# Check for missing values in each DataFrame\n",
    "print(\"\\nMissing values in Train DataFrame:\")\n",
    "print(train_df.isnull().sum())\n",
    "\n",
    "print(\"\\nMissing values in Test DataFrame:\")\n",
    "print(test_df.isnull().sum())\n",
    "\n",
    "print(\"\\nMissing values in Sample Submission DataFrame:\")\n",
    "print(sample_submission_df.isnull().sum())\n",
    "\n",
    "# Display summary statistics of each DataFrame\n",
    "print(\"\\nSummary statistics of Train DataFrame:\")\n",
    "print(train_df.describe())\n",
    "\n",
    "print(\"\\nSummary statistics of Test DataFrame:\")\n",
    "print(test_df.describe())"
   ]
  },
  {
   "cell_type": "code",
   "execution_count": null,
   "metadata": {
    "colab": {
     "base_uri": "https://localhost:8080/"
    },
    "id": "7sBi2pPQz2Si",
    "outputId": "06a44d27-8cd9-4213-dc2f-1a2b7c2eca47"
   },
   "outputs": [
    {
     "name": "stderr",
     "output_type": "stream",
     "text": [
      "<ipython-input-13-14e3e8a4c684>:5: SettingWithCopyWarning: \n",
      "A value is trying to be set on a copy of a slice from a DataFrame.\n",
      "Try using .loc[row_indexer,col_indexer] = value instead\n",
      "\n",
      "See the caveats in the documentation: https://pandas.pydata.org/pandas-docs/stable/user_guide/indexing.html#returning-a-view-versus-a-copy\n",
      "  train_df_cleaned['pickup_datetime'] = pd.to_datetime(train_df_cleaned['pickup_datetime'])\n"
     ]
    },
    {
     "name": "stdout",
     "output_type": "stream",
     "text": [
      "\n",
      "Data types after conversion:\n",
      "id                            object\n",
      "vendor_id                      int64\n",
      "pickup_datetime       datetime64[ns]\n",
      "dropoff_datetime      datetime64[ns]\n",
      "passenger_count              float64\n",
      "pickup_longitude             float64\n",
      "pickup_latitude              float64\n",
      "dropoff_longitude            float64\n",
      "dropoff_latitude             float64\n",
      "store_and_fwd_flag            object\n",
      "trip_duration                float64\n",
      "dtype: object\n"
     ]
    },
    {
     "name": "stderr",
     "output_type": "stream",
     "text": [
      "<ipython-input-13-14e3e8a4c684>:6: SettingWithCopyWarning: \n",
      "A value is trying to be set on a copy of a slice from a DataFrame.\n",
      "Try using .loc[row_indexer,col_indexer] = value instead\n",
      "\n",
      "See the caveats in the documentation: https://pandas.pydata.org/pandas-docs/stable/user_guide/indexing.html#returning-a-view-versus-a-copy\n",
      "  train_df_cleaned['dropoff_datetime'] = pd.to_datetime(train_df_cleaned['dropoff_datetime'])\n"
     ]
    }
   ],
   "source": [
    "# Handle missing values by dropping them\n",
    "train_df_cleaned = train_df.dropna()\n",
    "\n",
    "# Convert datetime columns to appropriate data types\n",
    "train_df_cleaned['pickup_datetime'] = pd.to_datetime(train_df_cleaned['pickup_datetime'])\n",
    "train_df_cleaned['dropoff_datetime'] = pd.to_datetime(train_df_cleaned['dropoff_datetime'])\n",
    "\n",
    "# Check the data types to ensure the conversion\n",
    "print(\"\\nData types after conversion:\")\n",
    "print(train_df_cleaned.dtypes)\n",
    "\n",
    "# Remove outliers by trip duration\n",
    "trip_duration_quantiles = train_df_cleaned['trip_duration'].quantile([0.01, 0.99])\n",
    "train_df_cleaned = train_df_cleaned[(train_df_cleaned['trip_duration'] >= trip_duration_quantiles.iloc[0]) &\n",
    "                                    (train_df_cleaned['trip_duration'] <= trip_duration_quantiles.iloc[1])]"
   ]
  },
  {
   "cell_type": "code",
   "execution_count": null,
   "metadata": {
    "colab": {
     "base_uri": "https://localhost:8080/",
     "height": 599
    },
    "id": "fBLjGKSJ0ECK",
    "outputId": "b2409aba-1bc5-48b9-fd40-e352f3b9a246"
   },
   "outputs": [
    {
     "name": "stdout",
     "output_type": "stream",
     "text": [
      "\n",
      "Average Trip Duration (seconds): 814.8278671524007\n"
     ]
    },
    {
     "data": {
      "image/png": "[encoded data removed]",
      "text/plain": [
       "<Figure size 1000x600 with 1 Axes>"
      ]
     },
     "metadata": {},
     "output_type": "display_data"
    }
   ],
   "source": [
    "# Calculate trip duration in seconds\n",
    "train_df_cleaned['calculated_trip_duration'] = (train_df_cleaned['dropoff_datetime'] - train_df_cleaned['pickup_datetime']).dt.total_seconds()\n",
    "\n",
    "# Calculate the average trip duration\n",
    "average_trip_duration = train_df_cleaned['calculated_trip_duration'].mean()\n",
    "print(\"\\nAverage Trip Duration (seconds):\", average_trip_duration)\n",
    "\n",
    "# Visualize the results\n",
    "plt.figure(figsize=(10, 6))\n",
    "plt.hist(train_df_cleaned['calculated_trip_duration'], bins=50, color='skyblue', edgecolor='black')\n",
    "plt.title('Distribution of Trip Duration')\n",
    "plt.xlabel('Trip Duration (seconds)')\n",
    "plt.ylabel('Frequency')\n",
    "plt.grid(True)\n",
    "plt.show()"
   ]
  },
  {
   "cell_type": "code",
   "execution_count": null,
   "metadata": {
    "colab": {
     "base_uri": "https://localhost:8080/",
     "height": 564
    },
    "id": "ueLMyS-H0JYx",
    "outputId": "c1c8b8c3-348b-4bf8-9881-1a90a1a96489"
   },
   "outputs": [
    {
     "data": {
      "image/png": "[encoded data removed]",
      "text/plain": [
       "<Figure size 1000x600 with 1 Axes>"
      ]
     },
     "metadata": {},
     "output_type": "display_data"
    }
   ],
   "source": [
    "# Extract hour from pickup datetime\n",
    "train_df_cleaned['pickup_hour'] = train_df_cleaned['pickup_datetime'].dt.hour\n",
    "\n",
    "# Count the number of trips during each hour of the day\n",
    "hourly_trip_counts = train_df_cleaned['pickup_hour'].value_counts().sort_index()\n",
    "\n",
    "# Visualize the results\n",
    "plt.figure(figsize=(10, 6))\n",
    "plt.plot(hourly_trip_counts.index, hourly_trip_counts.values, marker='o', linestyle='-', color='skyblue')\n",
    "plt.title('Number of Trips by Hour of the Day')\n",
    "plt.xlabel('Hour of the Day')\n",
    "plt.ylabel('Number of Trips')\n",
    "plt.grid(True)\n",
    "plt.xticks(range(24))\n",
    "plt.show()"
   ]
  },
  {
   "cell_type": "code",
   "execution_count": null,
   "metadata": {
    "colab": {
     "base_uri": "https://localhost:8080/"
    },
    "id": "DDaGgny10TZj",
    "outputId": "8a58f93a-a6d9-466f-f9ad-58e853260058"
   },
   "outputs": [
    {
     "name": "stdout",
     "output_type": "stream",
     "text": [
      "\n",
      "Longest Trip Details:\n",
      "id                                    id3377682\n",
      "vendor_id                                     1\n",
      "pickup_datetime             2016-06-17 23:18:48\n",
      "dropoff_datetime            2016-06-18 00:15:55\n",
      "passenger_count                             1.0\n",
      "pickup_longitude                     -73.990768\n",
      "pickup_latitude                       40.734692\n",
      "dropoff_longitude                    -73.882965\n",
      "dropoff_latitude                      40.736237\n",
      "store_and_fwd_flag                            N\n",
      "trip_duration                            3427.0\n",
      "calculated_trip_duration                 3427.0\n",
      "pickup_hour                                  23\n",
      "Name: 54139, dtype: object\n",
      "\n",
      "Pickup Location: (40.73469161987305, -73.99076843261719)\n",
      "Dropoff Location: (40.736236572265625, -73.88296508789062)\n",
      "Trip Duration (seconds): 3427.0\n"
     ]
    }
   ],
   "source": [
    "# Find the longest trip duration\n",
    "longest_trip = train_df_cleaned.loc[train_df_cleaned['calculated_trip_duration'].idxmax()]\n",
    "\n",
    "print(\"\\nLongest Trip Details:\")\n",
    "print(longest_trip)\n",
    "\n",
    "# Additional insights into the pickup/dropoff locations and other trip details\n",
    "print(\"\\nPickup Location:\", (longest_trip['pickup_latitude'], longest_trip['pickup_longitude']))\n",
    "print(\"Dropoff Location:\", (longest_trip['dropoff_latitude'], longest_trip['dropoff_longitude']))\n",
    "print(\"Trip Duration (seconds):\", longest_trip['calculated_trip_duration'])"
   ]
  },
  {
   "cell_type": "code",
   "execution_count": null,
   "metadata": {
    "id": "BMbkULyl5rMj"
   },
   "outputs": [],
   "source": [
    "import pandas as pd    ## Feature Engineering\n",
    "import numpy as np\n",
    "\n",
    "# Load the dataset\n",
    "train_df = pd.read_csv('/content/train.csv')\n",
    "\n",
    "# Convert pickup_datetime to datetime object with error handling\n",
    "train_df['pickup_datetime'] = pd.to_datetime(train_df['pickup_datetime'], errors='coerce')\n",
    "\n",
    "# Remove rows with NaT values\n",
    "train_df = train_df.dropna(subset=['pickup_datetime'])\n",
    "\n",
    "# Extract features from pickup_datetime\n",
    "train_df['pickup_hour'] = train_df['pickup_datetime'].dt.hour\n",
    "train_df['pickup_day_of_week'] = train_df['pickup_datetime'].dt.dayofweek\n",
    "\n",
    "# Calculate trip distance using Haversine formula\n",
    "def haversine_distance(lat1, lon1, lat2, lon2):\n",
    "    R = 6371  # radius of Earth in kilometers\n",
    "    phi1 = np.radians(lat1)\n",
    "    phi2 = np.radians(lat2)\n",
    "    delta_phi = np.radians(lat2 - lat1)\n",
    "    delta_lambda = np.radians(lon2 - lon1)\n",
    "    a = np.sin(delta_phi / 2)**2 + np.cos(phi1) * np.cos(phi2) * np.sin(delta_lambda / 2)**2\n",
    "    return R * (2 * np.arctan2(np.sqrt(a), np.sqrt(1 - a)))\n",
    "\n",
    "train_df['trip_distance'] = haversine_distance(\n",
    "    train_df['pickup_latitude'],\n",
    "    train_df['pickup_longitude'],\n",
    "    train_df['dropoff_latitude'],\n",
    "    train_df['dropoff_longitude']\n",
    ")\n",
    "\n",
    "# Calculate trip speed (km/h)\n",
    "train_df['trip_speed'] = train_df['trip_distance'] / (train_df['trip_duration'] / 3600)\n",
    "\n",
    "# Drop unnecessary columns\n",
    "train_df = train_df.drop(['id', 'pickup_datetime', 'dropoff_datetime'], axis=1)\n",
    "\n",
    "# Normalize numerical features\n",
    "numeric_cols = ['pickup_longitude', 'pickup_latitude', 'dropoff_longitude', 'dropoff_latitude', 'trip_distance', 'trip_speed']\n",
    "train_df[numeric_cols] = (train_df[numeric_cols] - train_df[numeric_cols].mean()) / train_df[numeric_cols].std()\n",
    "\n",
    "# Encode categorical features (if any)\n",
    "# For example, you can use one-hot encoding for categorical features\n",
    "\n",
    "# Save the preprocessed dataset\n",
    "train_df.to_csv('/content/train_preprocessed.csv', index=False)"
   ]
  },
  {
   "cell_type": "code",
   "execution_count": null,
   "metadata": {
    "colab": {
     "base_uri": "https://localhost:8080/"
    },
    "id": "obqmAw387vSl",
    "outputId": "63b3ad79-a64f-4a19-9da5-a4a395ffb868"
   },
   "outputs": [
    {
     "name": "stdout",
     "output_type": "stream",
     "text": [
      "Models trained successfully.\n"
     ]
    }
   ],
   "source": [
    "import pandas as pd\n",
    "from sklearn.model_selection import train_test_split\n",
    "from sklearn.linear_model import LinearRegression\n",
    "from sklearn.tree import DecisionTreeRegressor\n",
    "from sklearn.ensemble import RandomForestRegressor\n",
    "from sklearn.metrics import mean_absolute_error, mean_squared_error, r2_score\n",
    "\n",
    "# Load the preprocessed dataset\n",
    "train_df = pd.read_csv('/content/train_preprocessed.csv')\n",
    "\n",
    "# Drop any non-numeric columns\n",
    "train_df = train_df.select_dtypes(include=['number'])\n",
    "\n",
    "# Split the dataset into features (X) and target (y)\n",
    "X = train_df.drop(['trip_duration'], axis=1)\n",
    "y = train_df['trip_duration']\n",
    "\n",
    "# Split the data into training and testing sets\n",
    "X_train, X_test, y_train, y_test = train_test_split(X, y, test_size=0.2, random_state=42)\n",
    "\n",
    "# Initialize the models\n",
    "lr = LinearRegression()\n",
    "dt = DecisionTreeRegressor(random_state=42)\n",
    "rf = RandomForestRegressor(random_state=42)\n",
    "\n",
    "# Train the models\n",
    "lr.fit(X_train, y_train)\n",
    "dt.fit(X_train, y_train)\n",
    "rf.fit(X_train, y_train)\n",
    "\n",
    "print(\"Models trained successfully.\")"
   ]
  },
  {
   "cell_type": "code",
   "execution_count": null,
   "metadata": {
    "colab": {
     "base_uri": "https://localhost:8080/"
    },
    "id": "0GK5AAAGhOXt",
    "outputId": "8cfdfe7c-d34f-4f5a-edae-c3bbdd6949ed"
   },
   "outputs": [
    {
     "name": "stdout",
     "output_type": "stream",
     "text": [
      "\n",
      "Linear Regression Results: {'MAE': 419.2061766042231, 'MSE': 9576846.470346322, 'RMSE': 3094.6480365861194, 'R2': -0.06268638793831749}\n",
      "\n",
      "Decision Tree Results: {'MAE': 29.03288056206089, 'MSE': 428965.8664168618, 'RMSE': 654.9548583046483, 'R2': 0.9524001780186332}\n",
      "\n",
      "Random Forest Results: {'MAE': 32.65244777517564, 'MSE': 1150642.272452309, 'RMSE': 1072.6799487509352, 'R2': 0.8723199871578119}\n"
     ]
    }
   ],
   "source": [
    "# Predict on the testing set\n",
    "y_pred_lr = lr.predict(X_test)\n",
    "y_pred_dt = dt.predict(X_test)\n",
    "y_pred_rf = rf.predict(X_test)\n",
    "\n",
    "# Define a function to evaluate the models\n",
    "def evaluate_model(y_true, y_pred):\n",
    "    mae = mean_absolute_error(y_true, y_pred)\n",
    "    mse = mean_squared_error(y_true, y_pred)\n",
    "    rmse = np.sqrt(mse)\n",
    "    r2 = r2_score(y_true, y_pred)\n",
    "    return {'MAE': mae, 'MSE': mse, 'RMSE': rmse, 'R2': r2}\n",
    "\n",
    "# Evaluate each model\n",
    "results_lr = evaluate_model(y_test, y_pred_lr)\n",
    "results_dt = evaluate_model(y_test, y_pred_dt)\n",
    "results_rf = evaluate_model(y_test, y_pred_rf)\n",
    "\n",
    "# Print the results\n",
    "print(\"\\nLinear Regression Results:\", results_lr)\n",
    "print(\"\\nDecision Tree Results:\", results_dt)\n",
    "print(\"\\nRandom Forest Results:\", results_rf)"
   ]
  },
  {
   "cell_type": "code",
   "execution_count": null,
   "metadata": {
    "colab": {
     "base_uri": "https://localhost:8080/"
    },
    "id": "VmRQlmY_iR-8",
    "outputId": "bc0b542d-f38e-4c49-f0c4-d69c28aa8792"
   },
   "outputs": [
    {
     "name": "stdout",
     "output_type": "stream",
     "text": [
      "Best Parameters for Random Forest: {'max_depth': None, 'min_samples_split': 10, 'n_estimators': 50}\n",
      "\n",
      "Best Random Forest Results: {'MAE': 32.33652554410264, 'MSE': 1128920.5277977097, 'RMSE': 1062.5067189423837, 'R2': 0.8747303215448349}\n"
     ]
    }
   ],
   "source": [
    "from sklearn.model_selection import GridSearchCV\n",
    "\n",
    "# Define the parameter grid for Random Forest\n",
    "param_grid_rf = {\n",
    "    'n_estimators': [50, 100, 150],\n",
    "    'max_depth': [None, 10, 20],\n",
    "    'min_samples_split': [2, 5, 10]\n",
    "}\n",
    "\n",
    "# Initialize the Grid Search with Random Forest model\n",
    "grid_search_rf = GridSearchCV(estimator=rf, param_grid=param_grid_rf, cv=5, scoring='neg_mean_squared_error', n_jobs=-1)\n",
    "\n",
    "# Perform Grid Search\n",
    "grid_search_rf.fit(X_train, y_train)\n",
    "\n",
    "# Get the best parameters\n",
    "best_params_rf = grid_search_rf.best_params_\n",
    "\n",
    "# Train the best Random Forest model\n",
    "best_rf = RandomForestRegressor(**best_params_rf, random_state=42)\n",
    "best_rf.fit(X_train, y_train)\n",
    "\n",
    "# Predict on the testing set using the best Random Forest model\n",
    "y_pred_best_rf = best_rf.predict(X_test)\n",
    "\n",
    "# Evaluate the performance of the best Random Forest model\n",
    "results_best_rf = evaluate_model(y_test, y_pred_best_rf)\n",
    "\n",
    "# Print the best parameters and evaluation results\n",
    "print(\"Best Parameters for Random Forest:\", best_params_rf)\n",
    "print(\"\\nBest Random Forest Results:\", results_best_rf)"
   ]
  },
  {
   "cell_type": "code",
   "execution_count": null,
   "metadata": {
    "colab": {
     "base_uri": "https://localhost:8080/"
    },
    "id": "en0GM5cruSZm",
    "outputId": "8a7fc65b-06a5-4e43-b049-9edbbef9be85"
   },
   "outputs": [
    {
     "name": "stdout",
     "output_type": "stream",
     "text": [
      "Model Evaluation Results:\n",
      "Random Forest - MAE: 0.08, MSE: 0.46, R2: -0.19\n",
      "Linear Regression - MAE: 0.09, MSE: 0.38, R2: 0.03\n",
      "Decision Tree - MAE: 0.10, MSE: 1.83, R2: -3.74\n"
     ]
    }
   ],
   "source": [
    "import pandas as pd\n",
    "from sklearn.ensemble import RandomForestRegressor\n",
    "from sklearn.linear_model import LinearRegression\n",
    "from sklearn.tree import DecisionTreeRegressor\n",
    "from sklearn.model_selection import train_test_split, GridSearchCV\n",
    "from sklearn.preprocessing import StandardScaler\n",
    "from sklearn.metrics import mean_absolute_error, mean_squared_error, r2_score\n",
    "import numpy as np\n",
    "\n",
    "# Load the datasets\n",
    "train_df = pd.read_csv('/content/train.csv')\n",
    "test_df = pd.read_csv('/content/test.csv')\n",
    "\n",
    "# Function to calculate haversine distance\n",
    "def haversine_distance(row):\n",
    "    from math import radians, cos, sin, asin, sqrt\n",
    "    lat1, lon1, lat2, lon2 = row['pickup_latitude'], row['pickup_longitude'], row['dropoff_latitude'], row['dropoff_longitude']\n",
    "\n",
    "    # Convert decimal degrees to radians\n",
    "    lon1, lat1, lon2, lat2 = map(radians, [lon1, lat1, lon2, lat2])\n",
    "\n",
    "    # Haversine formula\n",
    "    dlon = lon2 - lon1\n",
    "    dlat = lat2 - lat1\n",
    "    a = sin(dlat/2)**2 + cos(lat1) * cos(lat2) * sin(dlon/2)**2\n",
    "    c = 2 * asin(sqrt(a))\n",
    "\n",
    "    # Radius of earth in kilometers is 6371\n",
    "    km = 6371 * c\n",
    "    return km\n",
    "\n",
    "# Preprocess train dataset\n",
    "train_df['pickup_datetime'] = pd.to_datetime(train_df['pickup_datetime'], errors='coerce')\n",
    "train_df['dropoff_datetime'] = pd.to_datetime(train_df['dropoff_datetime'], errors='coerce')\n",
    "train_df['pickup_hour'] = train_df['pickup_datetime'].dt.hour\n",
    "train_df['pickup_day_of_week'] = train_df['pickup_datetime'].dt.dayofweek\n",
    "\n",
    "# Apply haversine_distance function to each row\n",
    "train_df['trip_distance'] = train_df.apply(haversine_distance, axis=1)\n",
    "\n",
    "# Calculate trip duration in seconds\n",
    "train_df['trip_duration'] = (train_df['dropoff_datetime'] - train_df['pickup_datetime']).dt.total_seconds()\n",
    "\n",
    "# Handle missing values in 'store_and_fwd_flag'\n",
    "train_df['store_and_fwd_flag'].fillna('N', inplace=True)\n",
    "\n",
    "# Drop unnecessary columns\n",
    "train_df = train_df.drop(['id', 'pickup_datetime', 'dropoff_datetime'], axis=1)\n",
    "\n",
    "# Convert categorical variables to numerical\n",
    "train_df['store_and_fwd_flag'] = train_df['store_and_fwd_flag'].map({'N': 0, 'Y': 1})\n",
    "\n",
    "# Convert non-numeric values to NaNs and handle missing values\n",
    "train_df = train_df.apply(pd.to_numeric, errors='coerce')\n",
    "\n",
    "# Handle missing values\n",
    "train_df = train_df.dropna(subset=['trip_duration', 'trip_distance', 'pickup_hour', 'pickup_day_of_week'])\n",
    "train_df = train_df.fillna(train_df.mean())\n",
    "\n",
    "# Ensure the dataset is not empty\n",
    "if train_df.empty:\n",
    "    raise ValueError(\"The training dataset is empty after preprocessing!\")\n",
    "\n",
    "# Select numeric columns and apply normalization\n",
    "numeric_cols = train_df.select_dtypes(include=['number']).columns\n",
    "scaler = StandardScaler()\n",
    "train_df[numeric_cols] = scaler.fit_transform(train_df[numeric_cols])\n",
    "\n",
    "# Split the data into features and target variable\n",
    "X = train_df.drop('trip_duration', axis=1)\n",
    "y = train_df['trip_duration']\n",
    "\n",
    "# Split into training and validation sets\n",
    "X_train, X_val, y_train, y_val = train_test_split(X, y, test_size=0.2, random_state=42)\n",
    "\n",
    "# Train models\n",
    "models = {\n",
    "    \"Random Forest\": RandomForestRegressor(n_estimators=100, random_state=42),\n",
    "    \"Linear Regression\": LinearRegression(),\n",
    "    \"Decision Tree\": DecisionTreeRegressor(random_state=42)\n",
    "}\n",
    "\n",
    "# Train and evaluate models\n",
    "model_results = {}\n",
    "for name, model in models.items():\n",
    "    model.fit(X_train, y_train)\n",
    "    y_pred = model.predict(X_val)\n",
    "    mae = mean_absolute_error(y_val, y_pred)\n",
    "    mse = mean_squared_error(y_val, y_pred)\n",
    "    r2 = r2_score(y_val, y_pred)\n",
    "    model_results[name] = {\"MAE\": mae, \"MSE\": mse, \"R2\": r2}\n",
    "\n",
    "print(\"Model Evaluation Results:\")\n",
    "for name, metrics in model_results.items():\n",
    "    print(f\"{name} - MAE: {metrics['MAE']:.2f}, MSE: {metrics['MSE']:.2f}, R2: {metrics['R2']:.2f}\")\n",
    "\n",
    "# Hyperparameter tuning for the best model (Random Forest in this example)\n",
    "param_grid = {\n",
    "    'n_estimators': [100, 200],\n",
    "    'max_depth': [None, 10, 20],\n",
    "    'min_samples_split': [2, 5, 10]\n",
    "}\n",
    "grid_search = GridSearchCV(RandomForestRegressor(random_state=42), param_grid, cv=3, n_jobs=-1, scoring='neg_mean_absolute_error')\n",
    "grid_search.fit(X_train, y_train)\n",
    "\n",
    "best_rf = grid_search.best_estimator_\n",
    "\n",
    "# Preprocess the test dataset similarly to the training dataset\n",
    "test_df['pickup_datetime'] = pd.to_datetime(test_df['pickup_datetime'], errors='coerce')\n",
    "test_df['pickup_hour'] = test_df['pickup_datetime'].dt.hour\n",
    "test_df['pickup_day_of_week'] = test_df['pickup_datetime'].dt.dayofweek\n",
    "\n",
    "# Apply haversine_distance function to each row\n",
    "test_df['trip_distance'] = test_df.apply(haversine_distance, axis=1)\n",
    "\n",
    "# Handle missing values in 'store_and_fwd_flag'\n",
    "test_df['store_and_fwd_flag'].fillna('N', inplace=True)\n",
    "\n",
    "# Drop unnecessary columns\n",
    "test_ids = test_df['id']  # Save test ids for submission\n",
    "test_df = test_df.drop(['id', 'pickup_datetime'], axis=1)\n",
    "\n",
    "# Convert categorical variables to numerical\n",
    "test_df['store_and_fwd_flag'] = test_df['store_and_fwd_flag'].map({'N': 0, 'Y': 1})\n",
    "\n",
    "# Convert non-numeric values to NaNs and handle missing values\n",
    "test_df = test_df.apply(pd.to_numeric, errors='coerce')\n",
    "\n",
    "# Fill NaNs with the column mean to ensure there are no missing values\n",
    "test_df = test_df.fillna(test_df.mean())\n",
    "\n",
    "# Ensure the dataset is not empty\n",
    "if test_df.empty:\n",
    "    raise ValueError(\"The test dataset is empty after preprocessing!\")\n",
    "\n",
    "# Normalize numerical features using the mean and std from the train set\n",
    "test_df[numeric_cols[:-1]] = scaler.transform(test_df[numeric_cols[:-1]])\n",
    "\n",
    "# Make predictions using the optimized Random Forest model\n",
    "y_pred_test_rf = best_rf.predict(test_df)\n",
    "\n",
    "# Prepare the submission file\n",
    "submission = pd.DataFrame({\n",
    "    \"id\": test_ids,\n",
    "    \"trip_duration\": y_pred_test_rf\n",
    "})\n",
    "\n",
    "# Save the submission file\n",
    "submission.to_csv('/content/submission.csv', index=False)\n",
    "\n",
    "print(\"Submission file created successfully!\")\n"
   ]
  }
 ],
 "metadata": {
  "colab": {
   "provenance": []
  },
  "kernelspec": {
   "display_name": "Python 3 (ipykernel)",
   "language": "python",
   "name": "python3"
  },
  "language_info": {
   "codemirror_mode": {
    "name": "ipython",
    "version": 3
   },
   "file_extension": ".py",
   "mimetype": "text/x-python",
   "name": "python",
   "nbconvert_exporter": "python",
   "pygments_lexer": "ipython3",
   "version": "3.12.3"
  }
 },
 "nbformat": 4,
 "nbformat_minor": 4
}
